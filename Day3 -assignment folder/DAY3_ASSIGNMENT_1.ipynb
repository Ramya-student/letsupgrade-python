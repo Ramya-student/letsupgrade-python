{
 "cells": [
  {
   "cell_type": "code",
   "execution_count": 1,
   "metadata": {},
   "outputs": [
    {
     "name": "stdout",
     "output_type": "stream",
     "text": [
      "INPUT: \n",
      "9000\n",
      "OUTPUT: Turn around\n"
     ]
    }
   ],
   "source": [
    "                                           #DAY 3 ASSIGNMENT 1 \n",
    "\n",
    "print(\"INPUT: \")\n",
    "\n",
    "altitude = input()\n",
    "\n",
    "\n",
    "if int(altitude) <= 1000 :\n",
    "    print(\"OUTPUT: Safe to land \")\n",
    "    \n",
    "elif int(altitude) <5000:\n",
    "    print(\"OUTPUT: Bring down to 1000 \")\n",
    "    \n",
    "else:\n",
    "    print(\"OUTPUT: Turn around\")\n",
    "    "
   ]
  },
  {
   "cell_type": "code",
   "execution_count": 2,
   "metadata": {},
   "outputs": [
    {
     "name": "stdout",
     "output_type": "stream",
     "text": [
      "INPUT: \n",
      "500\n",
      "OUTPUT: Safe to land \n"
     ]
    }
   ],
   "source": [
    "print(\"INPUT: \")\n",
    "\n",
    "altitude = input()\n",
    "\n",
    "\n",
    "if int(altitude) <= 1000 :\n",
    "    print(\"OUTPUT: Safe to land \")\n",
    "    \n",
    "elif int(altitude) <5000:\n",
    "    print(\"OUTPUT: Bring down to 1000 \")\n",
    "    \n",
    "else:\n",
    "    print(\"OUTPUT: Turn around\")\n",
    "    "
   ]
  },
  {
   "cell_type": "code",
   "execution_count": 3,
   "metadata": {},
   "outputs": [
    {
     "name": "stdout",
     "output_type": "stream",
     "text": [
      "INPUT: \n",
      "4500\n",
      "OUTPUT: Bring down to 1000 \n"
     ]
    }
   ],
   "source": [
    "print(\"INPUT: \")\n",
    "\n",
    "altitude = input()\n",
    "\n",
    "\n",
    "if int(altitude) <= 1000 :\n",
    "    print(\"OUTPUT: Safe to land \")\n",
    "    \n",
    "elif int(altitude) <5000:\n",
    "    print(\"OUTPUT: Bring down to 1000 \")\n",
    "    \n",
    "else:\n",
    "    print(\"OUTPUT: Turn around\")\n",
    "    "
   ]
  },
  {
   "cell_type": "code",
   "execution_count": null,
   "metadata": {},
   "outputs": [],
   "source": []
  },
  {
   "cell_type": "code",
   "execution_count": null,
   "metadata": {},
   "outputs": [],
   "source": []
  }
 ],
 "metadata": {
  "kernelspec": {
   "display_name": "Python 3",
   "language": "python",
   "name": "python3"
  },
  "language_info": {
   "codemirror_mode": {
    "name": "ipython",
    "version": 3
   },
   "file_extension": ".py",
   "mimetype": "text/x-python",
   "name": "python",
   "nbconvert_exporter": "python",
   "pygments_lexer": "ipython3",
   "version": "3.8.3"
  }
 },
 "nbformat": 4,
 "nbformat_minor": 4
}
